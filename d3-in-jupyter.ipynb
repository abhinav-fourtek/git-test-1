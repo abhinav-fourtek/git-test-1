{
 "cells": [
  {
   "cell_type": "code",
   "execution_count": 1,
   "metadata": {
    "collapsed": false
   },
   "outputs": [
    {
     "data": {
      "application/javascript": [
       "require.config({\n",
       "  paths: {\n",
       "      d3: '//cdnjs.cloudflare.com/ajax/libs/d3/3.4.8/d3.min'\n",
       "  }\n",
       "});"
      ],
      "text/plain": [
       "<IPython.core.display.Javascript object>"
      ]
     },
     "metadata": {},
     "output_type": "display_data"
    }
   ],
   "source": [
    "%%javascript\n",
    "require.config({\n",
    "  paths: {\n",
    "      d3: '//cdnjs.cloudflare.com/ajax/libs/d3/3.4.8/d3.min'\n",
    "  }\n",
    "});"
   ]
  },
  {
   "cell_type": "code",
   "execution_count": 2,
   "metadata": {
    "collapsed": false
   },
   "outputs": [
    {
     "data": {
      "application/javascript": [
       "element.append(\"<div id='chart1'></div>\");"
      ],
      "text/plain": [
       "<IPython.core.display.Javascript object>"
      ]
     },
     "metadata": {},
     "output_type": "display_data"
    }
   ],
   "source": [
    "%%javascript\n",
    "element.append(\"<div id='chart1'></div>\");"
   ]
  },
  {
   "cell_type": "code",
   "execution_count": 4,
   "metadata": {
    "collapsed": false
   },
   "outputs": [
    {
     "data": {
      "application/javascript": [
       "require(['d3'], function(d3){\n",
       "  //a weird idempotency thing\n",
       "  $(\"#chart1\").remove();\n",
       "  //create canvas\n",
       "  element.append(\"<div id='chart1'></div>\");\n",
       "  $(\"#chart1\").width(\"960px\");\n",
       "  $(\"#chart1\").height(\"600px\");        \n",
       "  var margin = {top: 20, right: 20, bottom: 30, left: 40};\n",
       "  var width = 880 - margin.left - margin.right;\n",
       "  var height = 500 - margin.top - margin.bottom;\n",
       "  var svg = d3.select(\"#chart1\").append(\"svg\")\n",
       "    .style(\"position\", \"relative\")\n",
       "    .style(\"max-width\", \"960px\")\n",
       "    .attr(\"width\", width + \"px\")\n",
       "    .attr(\"height\", (height + 50) + \"px\")\n",
       "    .append(\"g\")\n",
       "    .attr(\"transform\", \"translate(\" + margin.left + \",\" + margin.top + \")\");\n",
       "  \n",
       "  //set data\n",
       "  var data = convertPlotData(window.headwayVsRidership);\n",
       "  var xVals = function(d){return d.purpleHeadway;};\n",
       "  var yVals = function(d){return d.purpleAverage;};\n",
       "  \n",
       "  var xScale = d3.scale.linear().range([0, width]);\n",
       "  var xAxis = d3.svg.axis().scale(xScale).orient(\"bottom\");\n",
       "  var xMap = function(d) { return xScale(xVals(d));};\n",
       "      \n",
       "  var yScale = d3.scale.linear().range([height, 0]);\n",
       "  var yAxis = d3.svg.axis().scale(yScale).orient(\"left\");\n",
       "  var yMap = function(d) { return yScale(yVals(d));};\n",
       "  xScale.domain([d3.min(data, xVals)-1, d3.max(data, xVals)+1]);\n",
       "  yScale.domain([d3.min(data, yVals)-1, d3.max(data, yVals)+1]);\n",
       "\n",
       "  \n",
       "  var cValue = function(d) { \n",
       "    if(d.day == \"Saturday\" || d.day == \"Sunday\"){\n",
       "        return \"Weekend\";\n",
       "    }\n",
       "    return \"Weekday\";\n",
       "  }\n",
       "  var color = d3.scale.category10(); \n",
       "  \n",
       "  // x-axis\n",
       "  svg.append(\"g\")\n",
       "      .attr(\"class\", \"x axis\")\n",
       "      .attr(\"transform\", \"translate(0,\" + height + \")\")\n",
       "      .call(xAxis)\n",
       "    .append(\"text\")\n",
       "      .attr(\"class\", \"label\")\n",
       "      .attr(\"x\", width - 80)\n",
       "      .attr(\"y\", -15)\n",
       "      .style(\"text-anchor\", \"end\")\n",
       "      .text(\"Average Headway\");\n",
       "\n",
       "  // y-axis\n",
       "  svg.append(\"g\")\n",
       "      .attr(\"class\", \"y axis\")\n",
       "      .call(yAxis)\n",
       "    .append(\"text\")\n",
       "      .attr(\"class\", \"label\")\n",
       "      .attr(\"transform\", \"rotate(-90)\")\n",
       "      .attr(\"y\", 0)\n",
       "      .attr(\"dy\", \"1em\")\n",
       "      .style(\"text-anchor\", \"end\")\n",
       "      .text(\"Average Riders\");\n",
       "\n",
       "  //NEW: TOOLTIP. \n",
       "  var tooltip = d3.select(\"body\").append(\"div\")\n",
       "    .attr(\"class\", \"tooltip\")\n",
       "    .style(\"opacity\", 0)\n",
       "    .style(\"background-color\", \"white\");\n",
       " \n",
       "  svg.selectAll(\".dot\")\n",
       "     .data(data)\n",
       "     .enter().append(\"circle\")\n",
       "     .attr(\"class\", \"dot\")\n",
       "     .attr(\"r\", 3.5)\n",
       "     .attr(\"cx\", xMap)\n",
       "     .attr(\"cy\", yMap)\n",
       "     .style(\"fill\", function(d) { return color(cValue(d));}) //D3 does the magic! \n",
       "     .on(\"mouseover\", function(d) { //much like jquery, an event listener\n",
       "         tooltip.transition()\n",
       "                .duration(200)\n",
       "                .style(\"opacity\", .9);\n",
       "         tooltip.html(d[\"day\"] + \" : \" + d['date'])\n",
       "               .style(\"left\", (d3.event.pageX + 5) + \"px\")\n",
       "               .style(\"top\", (d3.event.pageY - 28) + \"px\");\n",
       "      })\n",
       "      .on(\"mouseout\", function(d) {\n",
       "          tooltip.transition()\n",
       "               .duration(500)\n",
       "               .style(\"opacity\", 0);\n",
       "      });\n",
       "    \n",
       "  var legend = svg.selectAll(\".legend\")\n",
       "      .data(color.domain()) //stores the color <-> label mappings\n",
       "      .enter().append(\"g\")\n",
       "      .attr(\"class\", \"legend\")\n",
       "      .attr(\"transform\", function(d, i) { return \"translate(0,\" + i * 20 + \")\"; });\n",
       "\n",
       "  legend.append(\"rect\")\n",
       "      .attr(\"x\", width - 60)\n",
       "      .attr(\"width\", 18)\n",
       "      .attr(\"height\", 18)\n",
       "      .style(\"fill\", color);\n",
       "\n",
       "  legend.append(\"text\")\n",
       "      .attr(\"x\", width - 70)\n",
       "      .attr(\"y\", 9)\n",
       "      .attr(\"dy\", \".35em\")\n",
       "      .style(\"text-anchor\", \"end\")\n",
       "      .text(function(d) { return d;})\n",
       "\n",
       "});"
      ],
      "text/plain": [
       "<IPython.core.display.Javascript object>"
      ]
     },
     "metadata": {},
     "output_type": "display_data"
    }
   ],
   "source": [
    "%%javascript\n",
    "require(['d3'], function(d3){\n",
    "  //a weird idempotency thing\n",
    "  $(\"#chart1\").remove();\n",
    "  //create canvas\n",
    "  element.append(\"<div id='chart1'></div>\");\n",
    "  $(\"#chart1\").width(\"960px\");\n",
    "  $(\"#chart1\").height(\"600px\");        \n",
    "  var margin = {top: 20, right: 20, bottom: 30, left: 40};\n",
    "  var width = 880 - margin.left - margin.right;\n",
    "  var height = 500 - margin.top - margin.bottom;\n",
    "  var svg = d3.select(\"#chart1\").append(\"svg\")\n",
    "    .style(\"position\", \"relative\")\n",
    "    .style(\"max-width\", \"960px\")\n",
    "    .attr(\"width\", width + \"px\")\n",
    "    .attr(\"height\", (height + 50) + \"px\")\n",
    "    .append(\"g\")\n",
    "    .attr(\"transform\", \"translate(\" + margin.left + \",\" + margin.top + \")\");\n",
    "  \n",
    "  //set data\n",
    "  var data = convertPlotData(window.headwayVsRidership);\n",
    "  var xVals = function(d){return d.purpleHeadway;};\n",
    "  var yVals = function(d){return d.purpleAverage;};\n",
    "  \n",
    "  var xScale = d3.scale.linear().range([0, width]);\n",
    "  var xAxis = d3.svg.axis().scale(xScale).orient(\"bottom\");\n",
    "  var xMap = function(d) { return xScale(xVals(d));};\n",
    "      \n",
    "  var yScale = d3.scale.linear().range([height, 0]);\n",
    "  var yAxis = d3.svg.axis().scale(yScale).orient(\"left\");\n",
    "  var yMap = function(d) { return yScale(yVals(d));};\n",
    "  xScale.domain([d3.min(data, xVals)-1, d3.max(data, xVals)+1]);\n",
    "  yScale.domain([d3.min(data, yVals)-1, d3.max(data, yVals)+1]);\n",
    "\n",
    "  \n",
    "  var cValue = function(d) { \n",
    "    if(d.day == \"Saturday\" || d.day == \"Sunday\"){\n",
    "        return \"Weekend\";\n",
    "    }\n",
    "    return \"Weekday\";\n",
    "  }\n",
    "  var color = d3.scale.category10(); \n",
    "  \n",
    "  // x-axis\n",
    "  svg.append(\"g\")\n",
    "      .attr(\"class\", \"x axis\")\n",
    "      .attr(\"transform\", \"translate(0,\" + height + \")\")\n",
    "      .call(xAxis)\n",
    "    .append(\"text\")\n",
    "      .attr(\"class\", \"label\")\n",
    "      .attr(\"x\", width - 80)\n",
    "      .attr(\"y\", -15)\n",
    "      .style(\"text-anchor\", \"end\")\n",
    "      .text(\"Average Headway\");\n",
    "\n",
    "  // y-axis\n",
    "  svg.append(\"g\")\n",
    "      .attr(\"class\", \"y axis\")\n",
    "      .call(yAxis)\n",
    "    .append(\"text\")\n",
    "      .attr(\"class\", \"label\")\n",
    "      .attr(\"transform\", \"rotate(-90)\")\n",
    "      .attr(\"y\", 0)\n",
    "      .attr(\"dy\", \"1em\")\n",
    "      .style(\"text-anchor\", \"end\")\n",
    "      .text(\"Average Riders\");\n",
    "\n",
    "  //NEW: TOOLTIP. \n",
    "  var tooltip = d3.select(\"body\").append(\"div\")\n",
    "    .attr(\"class\", \"tooltip\")\n",
    "    .style(\"opacity\", 0)\n",
    "    .style(\"background-color\", \"white\");\n",
    " \n",
    "  svg.selectAll(\".dot\")\n",
    "     .data(data)\n",
    "     .enter().append(\"circle\")\n",
    "     .attr(\"class\", \"dot\")\n",
    "     .attr(\"r\", 3.5)\n",
    "     .attr(\"cx\", xMap)\n",
    "     .attr(\"cy\", yMap)\n",
    "     .style(\"fill\", function(d) { return color(cValue(d));}) //D3 does the magic! \n",
    "     .on(\"mouseover\", function(d) { //much like jquery, an event listener\n",
    "         tooltip.transition()\n",
    "                .duration(200)\n",
    "                .style(\"opacity\", .9);\n",
    "         tooltip.html(d[\"day\"] + \" : \" + d['date'])\n",
    "               .style(\"left\", (d3.event.pageX + 5) + \"px\")\n",
    "               .style(\"top\", (d3.event.pageY - 28) + \"px\");\n",
    "      })\n",
    "      .on(\"mouseout\", function(d) {\n",
    "          tooltip.transition()\n",
    "               .duration(500)\n",
    "               .style(\"opacity\", 0);\n",
    "      });\n",
    "    \n",
    "  var legend = svg.selectAll(\".legend\")\n",
    "      .data(color.domain()) //stores the color <-> label mappings\n",
    "      .enter().append(\"g\")\n",
    "      .attr(\"class\", \"legend\")\n",
    "      .attr(\"transform\", function(d, i) { return \"translate(0,\" + i * 20 + \")\"; });\n",
    "\n",
    "  legend.append(\"rect\")\n",
    "      .attr(\"x\", width - 60)\n",
    "      .attr(\"width\", 18)\n",
    "      .attr(\"height\", 18)\n",
    "      .style(\"fill\", color);\n",
    "\n",
    "  legend.append(\"text\")\n",
    "      .attr(\"x\", width - 70)\n",
    "      .attr(\"y\", 9)\n",
    "      .attr(\"dy\", \".35em\")\n",
    "      .style(\"text-anchor\", \"end\")\n",
    "      .text(function(d) { return d;})\n",
    "\n",
    "});"
   ]
  },
  {
   "cell_type": "code",
   "execution_count": 5,
   "metadata": {
    "collapsed": false
   },
   "outputs": [
    {
     "data": {
      "text/html": [
       "<i><b>Hello DOM</i></b>"
      ],
      "text/plain": [
       "<IPython.core.display.HTML object>"
      ]
     },
     "execution_count": 5,
     "metadata": {},
     "output_type": "execute_result"
    }
   ],
   "source": [
    "from IPython.core.display import HTML\n",
    "\n",
    "HTML('<i><b>Hello DOM</i></b>')"
   ]
  },
  {
   "cell_type": "code",
   "execution_count": 8,
   "metadata": {
    "collapsed": false
   },
   "outputs": [
    {
     "data": {
      "text/html": [
       "<h1 class =\"yo\" id = \"dom\"> Hey </h1>\n",
       "     <script>$(\"dom\").text('hello JS')</script>\n",
       "     "
      ],
      "text/plain": [
       "<IPython.core.display.HTML object>"
      ]
     },
     "execution_count": 8,
     "metadata": {},
     "output_type": "execute_result"
    }
   ],
   "source": [
    "HTML(\"\"\"<h1 class =\"yo\" id = \"dom\"> Hey </h1>\n",
    "     <script>$(\"dom\").text('hello JS')</script>\n",
    "     \"\"\")"
   ]
  },
  {
   "cell_type": "code",
   "execution_count": null,
   "metadata": {
    "collapsed": true
   },
   "outputs": [],
   "source": []
  }
 ],
 "metadata": {
  "kernelspec": {
   "display_name": "Python 3",
   "language": "python",
   "name": "python3"
  },
  "language_info": {
   "codemirror_mode": {
    "name": "ipython",
    "version": 3
   },
   "file_extension": ".py",
   "mimetype": "text/x-python",
   "name": "python",
   "nbconvert_exporter": "python",
   "pygments_lexer": "ipython3",
   "version": "3.5.1"
  }
 },
 "nbformat": 4,
 "nbformat_minor": 0
}
